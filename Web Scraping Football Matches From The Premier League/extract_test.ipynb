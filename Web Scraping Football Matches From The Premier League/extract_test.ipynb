{
 "cells": [
  {
   "cell_type": "markdown",
   "metadata": {},
   "source": [
    "# Test File in Jupyter\n",
    "Jupyter file to help me quickly test and verify my code"
   ]
  },
  {
   "cell_type": "code",
   "execution_count": 1,
   "metadata": {},
   "outputs": [],
   "source": [
    "import pandas as pd\n",
    "import numpy as np\n",
    "from bs4 import BeautifulSoup\n",
    "import requests\n"
   ]
  },
  {
   "cell_type": "code",
   "execution_count": 2,
   "metadata": {},
   "outputs": [],
   "source": [
    "url_path = \"https://fbref.com/en/comps/9/2022-2023/2022-2023-Premier-League-Stats#all_league_structure\""
   ]
  },
  {
   "cell_type": "code",
   "execution_count": 3,
   "metadata": {},
   "outputs": [],
   "source": [
    "url_data = requests.get(url_path)"
   ]
  },
  {
   "cell_type": "code",
   "execution_count": 4,
   "metadata": {},
   "outputs": [],
   "source": [
    "soup = BeautifulSoup(url_data.text)"
   ]
  },
  {
   "cell_type": "code",
   "execution_count": 5,
   "metadata": {},
   "outputs": [],
   "source": [
    "league_table = soup.select('table.stats_table')[0]"
   ]
  },
  {
   "cell_type": "code",
   "execution_count": 6,
   "metadata": {},
   "outputs": [],
   "source": [
    "links = league_table.select(\"a\")"
   ]
  },
  {
   "cell_type": "code",
   "execution_count": 7,
   "metadata": {},
   "outputs": [],
   "source": [
    "links = [link.get(\"href\") for link in links]"
   ]
  },
  {
   "cell_type": "code",
   "execution_count": 8,
   "metadata": {},
   "outputs": [],
   "source": [
    "cleaned_links = [link for link in links if \"/squads/\" in link]"
   ]
  },
  {
   "cell_type": "code",
   "execution_count": 9,
   "metadata": {},
   "outputs": [
    {
     "data": {
      "text/plain": [
       "20"
      ]
     },
     "execution_count": 9,
     "metadata": {},
     "output_type": "execute_result"
    }
   ],
   "source": [
    "len(cleaned_links)"
   ]
  },
  {
   "cell_type": "code",
   "execution_count": 10,
   "metadata": {},
   "outputs": [],
   "source": [
    "full_links = [f\"https://fbref.com/{link}\" for link in cleaned_links]"
   ]
  },
  {
   "cell_type": "code",
   "execution_count": 11,
   "metadata": {},
   "outputs": [
    {
     "data": {
      "text/plain": [
       "['https://fbref.com//en/squads/b8fd03ef/2022-2023/Manchester-City-Stats',\n",
       " 'https://fbref.com//en/squads/18bb7c10/2022-2023/Arsenal-Stats',\n",
       " 'https://fbref.com//en/squads/19538871/2022-2023/Manchester-United-Stats',\n",
       " 'https://fbref.com//en/squads/b2b47a98/2022-2023/Newcastle-United-Stats',\n",
       " 'https://fbref.com//en/squads/822bd0ba/2022-2023/Liverpool-Stats',\n",
       " 'https://fbref.com//en/squads/d07537b9/2022-2023/Brighton-and-Hove-Albion-Stats',\n",
       " 'https://fbref.com//en/squads/8602292d/2022-2023/Aston-Villa-Stats',\n",
       " 'https://fbref.com//en/squads/361ca564/2022-2023/Tottenham-Hotspur-Stats',\n",
       " 'https://fbref.com//en/squads/cd051869/2022-2023/Brentford-Stats',\n",
       " 'https://fbref.com//en/squads/fd962109/2022-2023/Fulham-Stats',\n",
       " 'https://fbref.com//en/squads/47c64c55/2022-2023/Crystal-Palace-Stats',\n",
       " 'https://fbref.com//en/squads/cff3d9bb/2022-2023/Chelsea-Stats',\n",
       " 'https://fbref.com//en/squads/8cec06e1/2022-2023/Wolverhampton-Wanderers-Stats',\n",
       " 'https://fbref.com//en/squads/7c21e445/2022-2023/West-Ham-United-Stats',\n",
       " 'https://fbref.com//en/squads/4ba7cbea/2022-2023/Bournemouth-Stats',\n",
       " 'https://fbref.com//en/squads/e4a775cb/2022-2023/Nottingham-Forest-Stats',\n",
       " 'https://fbref.com//en/squads/d3fd31cc/2022-2023/Everton-Stats',\n",
       " 'https://fbref.com//en/squads/a2d435b3/2022-2023/Leicester-City-Stats',\n",
       " 'https://fbref.com//en/squads/5bfb9659/2022-2023/Leeds-United-Stats',\n",
       " 'https://fbref.com//en/squads/33c895d4/2022-2023/Southampton-Stats']"
      ]
     },
     "execution_count": 11,
     "metadata": {},
     "output_type": "execute_result"
    }
   ],
   "source": [
    "full_links"
   ]
  },
  {
   "cell_type": "code",
   "execution_count": 12,
   "metadata": {},
   "outputs": [],
   "source": [
    "team_link = full_links[0]"
   ]
  },
  {
   "cell_type": "code",
   "execution_count": 13,
   "metadata": {},
   "outputs": [],
   "source": [
    "team_data = requests.get(team_link)"
   ]
  },
  {
   "cell_type": "code",
   "execution_count": 23,
   "metadata": {},
   "outputs": [],
   "source": [
    "stats_df = pd.read_html(team_data.text,match=\"Scores & Fixtures\")[0]"
   ]
  },
  {
   "cell_type": "code",
   "execution_count": 24,
   "metadata": {},
   "outputs": [
    {
     "data": {
      "text/html": [
       "<div>\n",
       "<style scoped>\n",
       "    .dataframe tbody tr th:only-of-type {\n",
       "        vertical-align: middle;\n",
       "    }\n",
       "\n",
       "    .dataframe tbody tr th {\n",
       "        vertical-align: top;\n",
       "    }\n",
       "\n",
       "    .dataframe thead th {\n",
       "        text-align: right;\n",
       "    }\n",
       "</style>\n",
       "<table border=\"1\" class=\"dataframe\">\n",
       "  <thead>\n",
       "    <tr style=\"text-align: right;\">\n",
       "      <th></th>\n",
       "      <th>Date</th>\n",
       "      <th>Time</th>\n",
       "      <th>Comp</th>\n",
       "      <th>Round</th>\n",
       "      <th>Day</th>\n",
       "      <th>Venue</th>\n",
       "      <th>Result</th>\n",
       "      <th>GF</th>\n",
       "      <th>GA</th>\n",
       "      <th>Opponent</th>\n",
       "      <th>xG</th>\n",
       "      <th>xGA</th>\n",
       "      <th>Poss</th>\n",
       "      <th>Attendance</th>\n",
       "      <th>Captain</th>\n",
       "      <th>Formation</th>\n",
       "      <th>Referee</th>\n",
       "      <th>Match Report</th>\n",
       "      <th>Notes</th>\n",
       "    </tr>\n",
       "  </thead>\n",
       "  <tbody>\n",
       "    <tr>\n",
       "      <th>0</th>\n",
       "      <td>2022-07-30</td>\n",
       "      <td>17:00</td>\n",
       "      <td>Community Shield</td>\n",
       "      <td>FA Community Shield</td>\n",
       "      <td>Sat</td>\n",
       "      <td>Neutral</td>\n",
       "      <td>L</td>\n",
       "      <td>1</td>\n",
       "      <td>3</td>\n",
       "      <td>Liverpool</td>\n",
       "      <td>NaN</td>\n",
       "      <td>NaN</td>\n",
       "      <td>57</td>\n",
       "      <td>NaN</td>\n",
       "      <td>Rúben Dias</td>\n",
       "      <td>4-3-3</td>\n",
       "      <td>Craig Pawson</td>\n",
       "      <td>Match Report</td>\n",
       "      <td>NaN</td>\n",
       "    </tr>\n",
       "    <tr>\n",
       "      <th>1</th>\n",
       "      <td>2022-08-07</td>\n",
       "      <td>16:30</td>\n",
       "      <td>Premier League</td>\n",
       "      <td>Matchweek 1</td>\n",
       "      <td>Sun</td>\n",
       "      <td>Away</td>\n",
       "      <td>W</td>\n",
       "      <td>2</td>\n",
       "      <td>0</td>\n",
       "      <td>West Ham</td>\n",
       "      <td>2.2</td>\n",
       "      <td>0.5</td>\n",
       "      <td>75</td>\n",
       "      <td>62443.0</td>\n",
       "      <td>İlkay Gündoğan</td>\n",
       "      <td>4-3-3</td>\n",
       "      <td>Michael Oliver</td>\n",
       "      <td>Match Report</td>\n",
       "      <td>NaN</td>\n",
       "    </tr>\n",
       "    <tr>\n",
       "      <th>2</th>\n",
       "      <td>2022-08-13</td>\n",
       "      <td>15:00</td>\n",
       "      <td>Premier League</td>\n",
       "      <td>Matchweek 2</td>\n",
       "      <td>Sat</td>\n",
       "      <td>Home</td>\n",
       "      <td>W</td>\n",
       "      <td>4</td>\n",
       "      <td>0</td>\n",
       "      <td>Bournemouth</td>\n",
       "      <td>1.7</td>\n",
       "      <td>0.1</td>\n",
       "      <td>67</td>\n",
       "      <td>53453.0</td>\n",
       "      <td>İlkay Gündoğan</td>\n",
       "      <td>4-2-3-1</td>\n",
       "      <td>David Coote</td>\n",
       "      <td>Match Report</td>\n",
       "      <td>NaN</td>\n",
       "    </tr>\n",
       "    <tr>\n",
       "      <th>3</th>\n",
       "      <td>2022-08-21</td>\n",
       "      <td>16:30</td>\n",
       "      <td>Premier League</td>\n",
       "      <td>Matchweek 3</td>\n",
       "      <td>Sun</td>\n",
       "      <td>Away</td>\n",
       "      <td>D</td>\n",
       "      <td>3</td>\n",
       "      <td>3</td>\n",
       "      <td>Newcastle Utd</td>\n",
       "      <td>2.1</td>\n",
       "      <td>1.8</td>\n",
       "      <td>69</td>\n",
       "      <td>52258.0</td>\n",
       "      <td>İlkay Gündoğan</td>\n",
       "      <td>4-3-3</td>\n",
       "      <td>Jarred Gillett</td>\n",
       "      <td>Match Report</td>\n",
       "      <td>NaN</td>\n",
       "    </tr>\n",
       "    <tr>\n",
       "      <th>4</th>\n",
       "      <td>2022-08-27</td>\n",
       "      <td>15:00</td>\n",
       "      <td>Premier League</td>\n",
       "      <td>Matchweek 4</td>\n",
       "      <td>Sat</td>\n",
       "      <td>Home</td>\n",
       "      <td>W</td>\n",
       "      <td>4</td>\n",
       "      <td>2</td>\n",
       "      <td>Crystal Palace</td>\n",
       "      <td>2.2</td>\n",
       "      <td>0.1</td>\n",
       "      <td>74</td>\n",
       "      <td>53112.0</td>\n",
       "      <td>Kevin De Bruyne</td>\n",
       "      <td>4-2-3-1</td>\n",
       "      <td>Darren England</td>\n",
       "      <td>Match Report</td>\n",
       "      <td>NaN</td>\n",
       "    </tr>\n",
       "    <tr>\n",
       "      <th>...</th>\n",
       "      <td>...</td>\n",
       "      <td>...</td>\n",
       "      <td>...</td>\n",
       "      <td>...</td>\n",
       "      <td>...</td>\n",
       "      <td>...</td>\n",
       "      <td>...</td>\n",
       "      <td>...</td>\n",
       "      <td>...</td>\n",
       "      <td>...</td>\n",
       "      <td>...</td>\n",
       "      <td>...</td>\n",
       "      <td>...</td>\n",
       "      <td>...</td>\n",
       "      <td>...</td>\n",
       "      <td>...</td>\n",
       "      <td>...</td>\n",
       "      <td>...</td>\n",
       "      <td>...</td>\n",
       "    </tr>\n",
       "    <tr>\n",
       "      <th>56</th>\n",
       "      <td>2023-05-21</td>\n",
       "      <td>16:00</td>\n",
       "      <td>Premier League</td>\n",
       "      <td>Matchweek 37</td>\n",
       "      <td>Sun</td>\n",
       "      <td>Home</td>\n",
       "      <td>W</td>\n",
       "      <td>1</td>\n",
       "      <td>0</td>\n",
       "      <td>Chelsea</td>\n",
       "      <td>1.2</td>\n",
       "      <td>1.2</td>\n",
       "      <td>64</td>\n",
       "      <td>53490.0</td>\n",
       "      <td>Kyle Walker</td>\n",
       "      <td>3-4-3◆</td>\n",
       "      <td>Michael Oliver</td>\n",
       "      <td>Match Report</td>\n",
       "      <td>NaN</td>\n",
       "    </tr>\n",
       "    <tr>\n",
       "      <th>57</th>\n",
       "      <td>2023-05-24</td>\n",
       "      <td>20:00</td>\n",
       "      <td>Premier League</td>\n",
       "      <td>Matchweek 32</td>\n",
       "      <td>Wed</td>\n",
       "      <td>Away</td>\n",
       "      <td>D</td>\n",
       "      <td>1</td>\n",
       "      <td>1</td>\n",
       "      <td>Brighton</td>\n",
       "      <td>1.8</td>\n",
       "      <td>2.2</td>\n",
       "      <td>60</td>\n",
       "      <td>31388.0</td>\n",
       "      <td>İlkay Gündoğan</td>\n",
       "      <td>4-3-3</td>\n",
       "      <td>Simon Hooper</td>\n",
       "      <td>Match Report</td>\n",
       "      <td>NaN</td>\n",
       "    </tr>\n",
       "    <tr>\n",
       "      <th>58</th>\n",
       "      <td>2023-05-28</td>\n",
       "      <td>16:30</td>\n",
       "      <td>Premier League</td>\n",
       "      <td>Matchweek 38</td>\n",
       "      <td>Sun</td>\n",
       "      <td>Away</td>\n",
       "      <td>L</td>\n",
       "      <td>0</td>\n",
       "      <td>1</td>\n",
       "      <td>Brentford</td>\n",
       "      <td>1.6</td>\n",
       "      <td>1.3</td>\n",
       "      <td>65</td>\n",
       "      <td>17120.0</td>\n",
       "      <td>Kyle Walker</td>\n",
       "      <td>3-2-4-1</td>\n",
       "      <td>John Brooks</td>\n",
       "      <td>Match Report</td>\n",
       "      <td>NaN</td>\n",
       "    </tr>\n",
       "    <tr>\n",
       "      <th>59</th>\n",
       "      <td>2023-06-03</td>\n",
       "      <td>15:00</td>\n",
       "      <td>FA Cup</td>\n",
       "      <td>Final</td>\n",
       "      <td>Sat</td>\n",
       "      <td>Neutral</td>\n",
       "      <td>W</td>\n",
       "      <td>2</td>\n",
       "      <td>1</td>\n",
       "      <td>Manchester Utd</td>\n",
       "      <td>NaN</td>\n",
       "      <td>NaN</td>\n",
       "      <td>60</td>\n",
       "      <td>83179.0</td>\n",
       "      <td>İlkay Gündoğan</td>\n",
       "      <td>3-2-4-1</td>\n",
       "      <td>Paul Tierney</td>\n",
       "      <td>Match Report</td>\n",
       "      <td>NaN</td>\n",
       "    </tr>\n",
       "    <tr>\n",
       "      <th>60</th>\n",
       "      <td>2023-06-10</td>\n",
       "      <td>22:00</td>\n",
       "      <td>Champions Lg</td>\n",
       "      <td>Final</td>\n",
       "      <td>Sat</td>\n",
       "      <td>Neutral</td>\n",
       "      <td>W</td>\n",
       "      <td>1</td>\n",
       "      <td>0</td>\n",
       "      <td>it Inter</td>\n",
       "      <td>1.0</td>\n",
       "      <td>1.7</td>\n",
       "      <td>55</td>\n",
       "      <td>71412.0</td>\n",
       "      <td>İlkay Gündoğan</td>\n",
       "      <td>3-2-4-1</td>\n",
       "      <td>Szymon Marciniak</td>\n",
       "      <td>Match Report</td>\n",
       "      <td>NaN</td>\n",
       "    </tr>\n",
       "  </tbody>\n",
       "</table>\n",
       "<p>61 rows × 19 columns</p>\n",
       "</div>"
      ],
      "text/plain": [
       "          Date   Time              Comp                Round  Day    Venue  \\\n",
       "0   2022-07-30  17:00  Community Shield  FA Community Shield  Sat  Neutral   \n",
       "1   2022-08-07  16:30    Premier League          Matchweek 1  Sun     Away   \n",
       "2   2022-08-13  15:00    Premier League          Matchweek 2  Sat     Home   \n",
       "3   2022-08-21  16:30    Premier League          Matchweek 3  Sun     Away   \n",
       "4   2022-08-27  15:00    Premier League          Matchweek 4  Sat     Home   \n",
       "..         ...    ...               ...                  ...  ...      ...   \n",
       "56  2023-05-21  16:00    Premier League         Matchweek 37  Sun     Home   \n",
       "57  2023-05-24  20:00    Premier League         Matchweek 32  Wed     Away   \n",
       "58  2023-05-28  16:30    Premier League         Matchweek 38  Sun     Away   \n",
       "59  2023-06-03  15:00            FA Cup                Final  Sat  Neutral   \n",
       "60  2023-06-10  22:00      Champions Lg                Final  Sat  Neutral   \n",
       "\n",
       "   Result  GF  GA        Opponent   xG  xGA  Poss  Attendance  \\\n",
       "0       L   1   3       Liverpool  NaN  NaN    57         NaN   \n",
       "1       W   2   0        West Ham  2.2  0.5    75     62443.0   \n",
       "2       W   4   0     Bournemouth  1.7  0.1    67     53453.0   \n",
       "3       D   3   3   Newcastle Utd  2.1  1.8    69     52258.0   \n",
       "4       W   4   2  Crystal Palace  2.2  0.1    74     53112.0   \n",
       "..    ...  ..  ..             ...  ...  ...   ...         ...   \n",
       "56      W   1   0         Chelsea  1.2  1.2    64     53490.0   \n",
       "57      D   1   1        Brighton  1.8  2.2    60     31388.0   \n",
       "58      L   0   1       Brentford  1.6  1.3    65     17120.0   \n",
       "59      W   2   1  Manchester Utd  NaN  NaN    60     83179.0   \n",
       "60      W   1   0        it Inter  1.0  1.7    55     71412.0   \n",
       "\n",
       "            Captain Formation           Referee  Match Report Notes  \n",
       "0        Rúben Dias     4-3-3      Craig Pawson  Match Report   NaN  \n",
       "1    İlkay Gündoğan     4-3-3    Michael Oliver  Match Report   NaN  \n",
       "2    İlkay Gündoğan   4-2-3-1       David Coote  Match Report   NaN  \n",
       "3    İlkay Gündoğan     4-3-3    Jarred Gillett  Match Report   NaN  \n",
       "4   Kevin De Bruyne   4-2-3-1    Darren England  Match Report   NaN  \n",
       "..              ...       ...               ...           ...   ...  \n",
       "56      Kyle Walker    3-4-3◆    Michael Oliver  Match Report   NaN  \n",
       "57   İlkay Gündoğan     4-3-3      Simon Hooper  Match Report   NaN  \n",
       "58      Kyle Walker   3-2-4-1       John Brooks  Match Report   NaN  \n",
       "59   İlkay Gündoğan   3-2-4-1      Paul Tierney  Match Report   NaN  \n",
       "60   İlkay Gündoğan   3-2-4-1  Szymon Marciniak  Match Report   NaN  \n",
       "\n",
       "[61 rows x 19 columns]"
      ]
     },
     "execution_count": 24,
     "metadata": {},
     "output_type": "execute_result"
    }
   ],
   "source": [
    "stats_df"
   ]
  },
  {
   "cell_type": "markdown",
   "metadata": {},
   "source": [
    "# Shooting Stats table"
   ]
  },
  {
   "cell_type": "code",
   "execution_count": 36,
   "metadata": {},
   "outputs": [
    {
     "ename": "AttributeError",
     "evalue": "'Response' object has no attribute 'select'",
     "output_type": "error",
     "traceback": [
      "\u001b[1;31m---------------------------------------------------------------------------\u001b[0m",
      "\u001b[1;31mAttributeError\u001b[0m                            Traceback (most recent call last)",
      "\u001b[1;32mc:\\Python Scripts\\Data Analysis\\Web Scraping Football Matches From The Premier League\\extract_test.ipynb Cell 18\u001b[0m line \u001b[0;36m1\n\u001b[1;32m----> <a href='vscode-notebook-cell:/c%3A/Python%20Scripts/Data%20Analysis/Web%20Scraping%20Football%20Matches%20From%20The%20Premier%20League/extract_test.ipynb#X35sZmlsZQ%3D%3D?line=0'>1</a>\u001b[0m links \u001b[39m=\u001b[39m team_data\u001b[39m.\u001b[39;49mselect(\u001b[39m\"\u001b[39m\u001b[39ma\u001b[39m\u001b[39m\"\u001b[39m)\n\u001b[0;32m      <a href='vscode-notebook-cell:/c%3A/Python%20Scripts/Data%20Analysis/Web%20Scraping%20Football%20Matches%20From%20The%20Premier%20League/extract_test.ipynb#X35sZmlsZQ%3D%3D?line=1'>2</a>\u001b[0m links \u001b[39m=\u001b[39m [link\u001b[39m.\u001b[39mget(\u001b[39m\"\u001b[39m\u001b[39mhref\u001b[39m\u001b[39m\"\u001b[39m) \u001b[39mfor\u001b[39;00m link \u001b[39min\u001b[39;00m links]\n",
      "\u001b[1;31mAttributeError\u001b[0m: 'Response' object has no attribute 'select'"
     ]
    }
   ],
   "source": [
    "links = team_link.select(\"a\")\n",
    "links = [link.get(\"href\") for link in links]"
   ]
  },
  {
   "cell_type": "code",
   "execution_count": null,
   "metadata": {},
   "outputs": [],
   "source": []
  }
 ],
 "metadata": {
  "kernelspec": {
   "display_name": "Python 3",
   "language": "python",
   "name": "python3"
  },
  "language_info": {
   "codemirror_mode": {
    "name": "ipython",
    "version": 3
   },
   "file_extension": ".py",
   "mimetype": "text/x-python",
   "name": "python",
   "nbconvert_exporter": "python",
   "pygments_lexer": "ipython3",
   "version": "3.10.11"
  }
 },
 "nbformat": 4,
 "nbformat_minor": 2
}
