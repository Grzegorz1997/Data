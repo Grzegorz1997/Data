{
 "cells": [
  {
   "cell_type": "markdown",
   "metadata": {},
   "source": [
    "## Connect with chinook database"
   ]
  },
  {
   "cell_type": "code",
   "execution_count": 2,
   "metadata": {
    "collapsed": false
   },
   "outputs": [
    {
     "data": {
      "text/plain": [
       "'Connected: None@chinook.db'"
      ]
     },
     "execution_count": 2,
     "metadata": {},
     "output_type": "execute_result"
    }
   ],
   "source": [
    "%%capture\n",
    "%load_ext sql\n",
    "%sql sqlite:///chinook.db"
   ]
  },
  {
   "cell_type": "markdown",
   "metadata": {},
   "source": [
    "## Review the database for a comprehensive list of available tables and views"
   ]
  },
  {
   "cell_type": "code",
   "execution_count": 3,
   "metadata": {
    "collapsed": false
   },
   "outputs": [
    {
     "name": "stdout",
     "output_type": "stream",
     "text": [
      "Done.\n"
     ]
    },
    {
     "data": {
      "text/html": [
       "<table>\n",
       "    <tr>\n",
       "        <th>name</th>\n",
       "        <th>type</th>\n",
       "    </tr>\n",
       "    <tr>\n",
       "        <td>album</td>\n",
       "        <td>table</td>\n",
       "    </tr>\n",
       "    <tr>\n",
       "        <td>artist</td>\n",
       "        <td>table</td>\n",
       "    </tr>\n",
       "    <tr>\n",
       "        <td>customer</td>\n",
       "        <td>table</td>\n",
       "    </tr>\n",
       "    <tr>\n",
       "        <td>employee</td>\n",
       "        <td>table</td>\n",
       "    </tr>\n",
       "    <tr>\n",
       "        <td>genre</td>\n",
       "        <td>table</td>\n",
       "    </tr>\n",
       "    <tr>\n",
       "        <td>invoice</td>\n",
       "        <td>table</td>\n",
       "    </tr>\n",
       "    <tr>\n",
       "        <td>invoice_line</td>\n",
       "        <td>table</td>\n",
       "    </tr>\n",
       "    <tr>\n",
       "        <td>media_type</td>\n",
       "        <td>table</td>\n",
       "    </tr>\n",
       "    <tr>\n",
       "        <td>playlist</td>\n",
       "        <td>table</td>\n",
       "    </tr>\n",
       "    <tr>\n",
       "        <td>playlist_track</td>\n",
       "        <td>table</td>\n",
       "    </tr>\n",
       "    <tr>\n",
       "        <td>track</td>\n",
       "        <td>table</td>\n",
       "    </tr>\n",
       "    <tr>\n",
       "        <td>potential_artists</td>\n",
       "        <td>view</td>\n",
       "    </tr>\n",
       "</table>"
      ],
      "text/plain": [
       "[('album', 'table'),\n",
       " ('artist', 'table'),\n",
       " ('customer', 'table'),\n",
       " ('employee', 'table'),\n",
       " ('genre', 'table'),\n",
       " ('invoice', 'table'),\n",
       " ('invoice_line', 'table'),\n",
       " ('media_type', 'table'),\n",
       " ('playlist', 'table'),\n",
       " ('playlist_track', 'table'),\n",
       " ('track', 'table'),\n",
       " ('potential_artists', 'view')]"
      ]
     },
     "execution_count": 3,
     "metadata": {},
     "output_type": "execute_result"
    }
   ],
   "source": [
    "%%sql\n",
    "SELECT\n",
    "    name,\n",
    "    type\n",
    "FROM sqlite_master\n",
    "WHERE type IN (\"table\",\"view\");"
   ]
  },
  {
   "cell_type": "markdown",
   "metadata": {},
   "source": [
    "# Business concept #1\n",
    "The Chinook record store has just signed a deal with a new record label, and you've been tasked with selecting the first three albums that will be added to the store, from a list of four. All four albums are by artists that don't have any tracks in the store right now - we have the artist names, and the genre of music they produce"
   ]
  },
  {
   "cell_type": "markdown",
   "metadata": {},
   "source": [
    "## Create View with potential new artists "
   ]
  },
  {
   "cell_type": "code",
   "execution_count": 4,
   "metadata": {
    "collapsed": false
   },
   "outputs": [
    {
     "name": "stdout",
     "output_type": "stream",
     "text": [
      "Done.\n",
      "Done.\n"
     ]
    },
    {
     "data": {
      "text/plain": [
       "[]"
      ]
     },
     "execution_count": 4,
     "metadata": {},
     "output_type": "execute_result"
    }
   ],
   "source": [
    "%%sql\n",
    "DROP VIEW IF EXISTS potential_artists;\n",
    "CREATE VIEW potential_artists AS\n",
    "    SELECT 'Regal' AS \"Artist Name\", 'Hip-Hop' AS \"Genre\"\n",
    "        UNION\n",
    "    SELECT 'Red Tone', 'Punk'\n",
    "        UNION\n",
    "    SELECT 'Meteor and the Girls', 'Pop'\n",
    "        UNION\n",
    "    SELECT 'Slim Jim Bites', 'Blues';"
   ]
  },
  {
   "cell_type": "code",
   "execution_count": 5,
   "metadata": {
    "collapsed": false
   },
   "outputs": [
    {
     "name": "stdout",
     "output_type": "stream",
     "text": [
      "Done.\n"
     ]
    },
    {
     "data": {
      "text/html": [
       "<table>\n",
       "    <tr>\n",
       "        <th>Artist Name</th>\n",
       "        <th>Genre</th>\n",
       "    </tr>\n",
       "    <tr>\n",
       "        <td>Meteor and the Girls</td>\n",
       "        <td>Pop</td>\n",
       "    </tr>\n",
       "    <tr>\n",
       "        <td>Red Tone</td>\n",
       "        <td>Punk</td>\n",
       "    </tr>\n",
       "    <tr>\n",
       "        <td>Regal</td>\n",
       "        <td>Hip-Hop</td>\n",
       "    </tr>\n",
       "    <tr>\n",
       "        <td>Slim Jim Bites</td>\n",
       "        <td>Blues</td>\n",
       "    </tr>\n",
       "</table>"
      ],
      "text/plain": [
       "[('Meteor and the Girls', 'Pop'),\n",
       " ('Red Tone', 'Punk'),\n",
       " ('Regal', 'Hip-Hop'),\n",
       " ('Slim Jim Bites', 'Blues')]"
      ]
     },
     "execution_count": 5,
     "metadata": {},
     "output_type": "execute_result"
    }
   ],
   "source": [
    "%%sql\n",
    "SELECT * FROM potential_artists;"
   ]
  },
  {
   "cell_type": "markdown",
   "metadata": {},
   "source": [
    "# Analyse which genre sells the most tracks in the USA"
   ]
  },
  {
   "cell_type": "code",
   "execution_count": 6,
   "metadata": {
    "collapsed": false
   },
   "outputs": [
    {
     "name": "stdout",
     "output_type": "stream",
     "text": [
      "Done.\n"
     ]
    },
    {
     "data": {
      "text/html": [
       "<table>\n",
       "    <tr>\n",
       "        <th>Genre</th>\n",
       "        <th>sold_tracks</th>\n",
       "        <th>sold_tracks_percentage</th>\n",
       "    </tr>\n",
       "    <tr>\n",
       "        <td>Rock</td>\n",
       "        <td>561</td>\n",
       "        <td>53.38</td>\n",
       "    </tr>\n",
       "    <tr>\n",
       "        <td>Alternative &amp; Punk</td>\n",
       "        <td>130</td>\n",
       "        <td>12.37</td>\n",
       "    </tr>\n",
       "    <tr>\n",
       "        <td>Metal</td>\n",
       "        <td>124</td>\n",
       "        <td>11.8</td>\n",
       "    </tr>\n",
       "    <tr>\n",
       "        <td>R&amp;B/Soul</td>\n",
       "        <td>53</td>\n",
       "        <td>5.04</td>\n",
       "    </tr>\n",
       "    <tr>\n",
       "        <td>Blues</td>\n",
       "        <td>36</td>\n",
       "        <td>3.43</td>\n",
       "    </tr>\n",
       "    <tr>\n",
       "        <td>Alternative</td>\n",
       "        <td>35</td>\n",
       "        <td>3.33</td>\n",
       "    </tr>\n",
       "    <tr>\n",
       "        <td>Latin</td>\n",
       "        <td>22</td>\n",
       "        <td>2.09</td>\n",
       "    </tr>\n",
       "    <tr>\n",
       "        <td>Pop</td>\n",
       "        <td>22</td>\n",
       "        <td>2.09</td>\n",
       "    </tr>\n",
       "    <tr>\n",
       "        <td>Hip Hop/Rap</td>\n",
       "        <td>20</td>\n",
       "        <td>1.9</td>\n",
       "    </tr>\n",
       "    <tr>\n",
       "        <td>Jazz</td>\n",
       "        <td>14</td>\n",
       "        <td>1.33</td>\n",
       "    </tr>\n",
       "    <tr>\n",
       "        <td>Easy Listening</td>\n",
       "        <td>13</td>\n",
       "        <td>1.24</td>\n",
       "    </tr>\n",
       "    <tr>\n",
       "        <td>Reggae</td>\n",
       "        <td>6</td>\n",
       "        <td>0.57</td>\n",
       "    </tr>\n",
       "    <tr>\n",
       "        <td>Electronica/Dance</td>\n",
       "        <td>5</td>\n",
       "        <td>0.48</td>\n",
       "    </tr>\n",
       "    <tr>\n",
       "        <td>Classical</td>\n",
       "        <td>4</td>\n",
       "        <td>0.38</td>\n",
       "    </tr>\n",
       "    <tr>\n",
       "        <td>Heavy Metal</td>\n",
       "        <td>3</td>\n",
       "        <td>0.29</td>\n",
       "    </tr>\n",
       "    <tr>\n",
       "        <td>Soundtrack</td>\n",
       "        <td>2</td>\n",
       "        <td>0.19</td>\n",
       "    </tr>\n",
       "    <tr>\n",
       "        <td>TV Shows</td>\n",
       "        <td>1</td>\n",
       "        <td>0.1</td>\n",
       "    </tr>\n",
       "</table>"
      ],
      "text/plain": [
       "[('Rock', 561, 53.38),\n",
       " ('Alternative & Punk', 130, 12.37),\n",
       " ('Metal', 124, 11.8),\n",
       " ('R&B/Soul', 53, 5.04),\n",
       " ('Blues', 36, 3.43),\n",
       " ('Alternative', 35, 3.33),\n",
       " ('Latin', 22, 2.09),\n",
       " ('Pop', 22, 2.09),\n",
       " ('Hip Hop/Rap', 20, 1.9),\n",
       " ('Jazz', 14, 1.33),\n",
       " ('Easy Listening', 13, 1.24),\n",
       " ('Reggae', 6, 0.57),\n",
       " ('Electronica/Dance', 5, 0.48),\n",
       " ('Classical', 4, 0.38),\n",
       " ('Heavy Metal', 3, 0.29),\n",
       " ('Soundtrack', 2, 0.19),\n",
       " ('TV Shows', 1, 0.1)]"
      ]
     },
     "execution_count": 6,
     "metadata": {},
     "output_type": "execute_result"
    }
   ],
   "source": [
    "%%sql\n",
    "WITH invoice_genre AS\n",
    "(\n",
    "    SELECT\n",
    "        i.invoice_id,\n",
    "        t.track_id, \n",
    "        g.name AS Genre\n",
    "    FROM \n",
    "        track AS t\n",
    "            INNER JOIN invoice_line AS il ON il.track_id = t.track_id\n",
    "            INNER JOIN invoice AS i ON il.invoice_id = i.invoice_id\n",
    "            INNER JOIN genre AS g ON g.genre_id = t.genre_id\n",
    "    WHERE i.billing_country = 'USA')\n",
    "SELECT \n",
    "    Genre, \n",
    "    COUNT(*) AS sold_tracks,\n",
    "    ROUND((COUNT(*) * 100.0) / (SELECT COUNT(*) FROM invoice_genre),2) AS sold_tracks_percentage\n",
    "FROM invoice_genre \n",
    "    GROUP BY Genre \n",
    "    ORDER BY sold_tracks DESC;"
   ]
  },
  {
   "cell_type": "markdown",
   "metadata": {},
   "source": [
    "# Observations\n",
    "\n",
    "Looking at the current best-selling songs based on genre, we should add Red Tone, Meteor and the Girls and Slim Jim Bites to the store"
   ]
  },
  {
   "cell_type": "markdown",
   "metadata": {},
   "source": [
    "# Business Concept #2\n",
    "Each customer for the Chinook store gets assigned to a sales support agent within the company when they first make a purchase. We need to analyze the purchases of customers belonging to each employee to see if any sales support agent is performing either better or worse than the others."
   ]
  },
  {
   "cell_type": "code",
   "execution_count": 7,
   "metadata": {
    "collapsed": false
   },
   "outputs": [
    {
     "name": "stdout",
     "output_type": "stream",
     "text": [
      "Done.\n"
     ]
    },
    {
     "data": {
      "text/html": [
       "<table>\n",
       "    <tr>\n",
       "        <th>employee_id</th>\n",
       "        <th>hire_date</th>\n",
       "        <th>Employee_name</th>\n",
       "        <th>Number_Of_Sales</th>\n",
       "        <th>Average_Sale</th>\n",
       "        <th>Total_Sales</th>\n",
       "    </tr>\n",
       "    <tr>\n",
       "        <td>3</td>\n",
       "        <td>2017-04-01 00:00:00</td>\n",
       "        <td>Jane Peacock</td>\n",
       "        <td>212</td>\n",
       "        <td>8.17</td>\n",
       "        <td>1731.51</td>\n",
       "    </tr>\n",
       "    <tr>\n",
       "        <td>4</td>\n",
       "        <td>2017-05-03 00:00:00</td>\n",
       "        <td>Margaret Park</td>\n",
       "        <td>214</td>\n",
       "        <td>7.4</td>\n",
       "        <td>1584.0</td>\n",
       "    </tr>\n",
       "    <tr>\n",
       "        <td>5</td>\n",
       "        <td>2017-10-17 00:00:00</td>\n",
       "        <td>Steve Johnson</td>\n",
       "        <td>188</td>\n",
       "        <td>7.41</td>\n",
       "        <td>1393.92</td>\n",
       "    </tr>\n",
       "</table>"
      ],
      "text/plain": [
       "[(3, '2017-04-01 00:00:00', 'Jane Peacock', 212, 8.17, 1731.51),\n",
       " (4, '2017-05-03 00:00:00', 'Margaret Park', 214, 7.4, 1584.0),\n",
       " (5, '2017-10-17 00:00:00', 'Steve Johnson', 188, 7.41, 1393.92)]"
      ]
     },
     "execution_count": 7,
     "metadata": {},
     "output_type": "execute_result"
    }
   ],
   "source": [
    "%%sql\n",
    "SELECT \n",
    "    e.employee_id, \n",
    "    e.hire_date,\n",
    "    e.first_name || \" \" || e.last_name AS Employee_name,\n",
    "    COUNT(i.invoice_id) AS Number_Of_Sales,\n",
    "    ROUND(AVG(i.total),2) AS Average_Sale,\n",
    "    ROUND(SUM(i.total),2) AS Total_Sales\n",
    "FROM employee AS e \n",
    "    INNER JOIN customer AS c ON c.support_rep_id = e.employee_id\n",
    "    INNER JOIN invoice AS i ON i.customer_id = c.customer_id\n",
    "        GROUP BY e.employee_id\n",
    "        ORDER BY Total_Sales DESC;"
   ]
  },
  {
   "cell_type": "markdown",
   "metadata": {},
   "source": [
    "# Observations\n",
    "Jane Peacock has the highest sales and revenue.\n",
    "\n",
    "Margaret Park has the most sales but slightly lower revenue.\n",
    "\n",
    "Steve Johnson, hired later, performs well."
   ]
  },
  {
   "cell_type": "markdown",
   "metadata": {},
   "source": [
    "# Business Concept #3\n",
    "We need to analyze the sales data for customer from each country, \n",
    "countries with only one customer has been grouped into \"Other\".\n",
    "For each country, we include:\n",
    "\n",
    "    total number of customers\n",
    "    total value of sales\n",
    "    average value of sales per customer\n",
    "    average order value"
   ]
  },
  {
   "cell_type": "code",
   "execution_count": 37,
   "metadata": {
    "collapsed": false
   },
   "outputs": [
    {
     "name": "stdout",
     "output_type": "stream",
     "text": [
      "Done.\n"
     ]
    },
    {
     "data": {
      "text/html": [
       "<table>\n",
       "    <tr>\n",
       "        <th>Country</th>\n",
       "        <th>Total Number Of Customers</th>\n",
       "        <th>Total Value Of Sales</th>\n",
       "        <th>Average Value Of Sales Per Customer</th>\n",
       "        <th>Average Order Value</th>\n",
       "    </tr>\n",
       "    <tr>\n",
       "        <td>Brazil</td>\n",
       "        <td>5</td>\n",
       "        <td>427.68</td>\n",
       "        <td>85.54</td>\n",
       "        <td>7.01</td>\n",
       "    </tr>\n",
       "    <tr>\n",
       "        <td>Canada</td>\n",
       "        <td>8</td>\n",
       "        <td>535.59</td>\n",
       "        <td>66.95</td>\n",
       "        <td>7.05</td>\n",
       "    </tr>\n",
       "    <tr>\n",
       "        <td>Czech Republic</td>\n",
       "        <td>2</td>\n",
       "        <td>273.24</td>\n",
       "        <td>136.62</td>\n",
       "        <td>9.11</td>\n",
       "    </tr>\n",
       "    <tr>\n",
       "        <td>France</td>\n",
       "        <td>5</td>\n",
       "        <td>389.07</td>\n",
       "        <td>77.81</td>\n",
       "        <td>7.78</td>\n",
       "    </tr>\n",
       "    <tr>\n",
       "        <td>Germany</td>\n",
       "        <td>4</td>\n",
       "        <td>334.62</td>\n",
       "        <td>83.66</td>\n",
       "        <td>8.16</td>\n",
       "    </tr>\n",
       "    <tr>\n",
       "        <td>India</td>\n",
       "        <td>2</td>\n",
       "        <td>183.15</td>\n",
       "        <td>91.58</td>\n",
       "        <td>8.72</td>\n",
       "    </tr>\n",
       "    <tr>\n",
       "        <td>Other</td>\n",
       "        <td>15</td>\n",
       "        <td>1094.94</td>\n",
       "        <td>73.0</td>\n",
       "        <td>7.45</td>\n",
       "    </tr>\n",
       "    <tr>\n",
       "        <td>Portugal</td>\n",
       "        <td>2</td>\n",
       "        <td>185.13</td>\n",
       "        <td>92.56</td>\n",
       "        <td>6.38</td>\n",
       "    </tr>\n",
       "    <tr>\n",
       "        <td>USA</td>\n",
       "        <td>13</td>\n",
       "        <td>1040.49</td>\n",
       "        <td>80.04</td>\n",
       "        <td>7.94</td>\n",
       "    </tr>\n",
       "    <tr>\n",
       "        <td>United Kingdom</td>\n",
       "        <td>3</td>\n",
       "        <td>245.52</td>\n",
       "        <td>81.84</td>\n",
       "        <td>8.77</td>\n",
       "    </tr>\n",
       "</table>"
      ],
      "text/plain": [
       "[('Brazil', 5, 427.68, 85.54, 7.01),\n",
       " ('Canada', 8, 535.59, 66.95, 7.05),\n",
       " ('Czech Republic', 2, 273.24, 136.62, 9.11),\n",
       " ('France', 5, 389.07, 77.81, 7.78),\n",
       " ('Germany', 4, 334.62, 83.66, 8.16),\n",
       " ('India', 2, 183.15, 91.58, 8.72),\n",
       " ('Other', 15, 1094.94, 73.0, 7.45),\n",
       " ('Portugal', 2, 185.13, 92.56, 6.38),\n",
       " ('USA', 13, 1040.49, 80.04, 7.94),\n",
       " ('United Kingdom', 3, 245.52, 81.84, 8.77)]"
      ]
     },
     "execution_count": 37,
     "metadata": {},
     "output_type": "execute_result"
    }
   ],
   "source": [
    "%%sql\n",
    "SELECT\n",
    "    Country,\n",
    "    SUM(customer_count) AS 'Total Number Of Customers',\n",
    "    SUM(total_sales) AS 'Total Value Of Sales',\n",
    "    ROUND(SUM(total_sales)  / SUM(customer_count),2) AS 'Average Value Of Sales Per Customer',\n",
    "    ROUND(SUM(total_sales)  / SUM(invoice_count),2) AS 'Average Order Value'\n",
    "FROM (\n",
    "    SELECT\n",
    "        CASE WHEN COUNT(DISTINCT c.customer_id) = 1 THEN 'Other' ELSE c.country END AS Country,\n",
    "        COUNT(DISTINCT c.customer_id) AS customer_count,\n",
    "        ROUND(SUM(i.total),2) AS total_sales,\n",
    "        ROUND(COUNT(DISTINCT i.invoice_id),2) AS invoice_count\n",
    "    FROM customer AS c\n",
    "    INNER JOIN invoice AS i ON i.customer_id = c.customer_id\n",
    "    GROUP BY c.country\n",
    ") AS Subquery\n",
    "GROUP BY Country\n",
    ";"
   ]
  },
  {
   "cell_type": "markdown",
   "metadata": {},
   "source": [
    "# Observations\n",
    "While the total sales for \"Other\" are significant, the average value of sales per customer is comparatively lower, suggesting that these markets may require tailored strategies to increase customer spending.\n",
    "\n",
    "The Czech Republic stands out with the highest average value of sales per customer at $136.62, indicating a potential opportunity for targeted marketing efforts or product offerings to further capitalize on this market's high customer spending.\n",
    "\n",
    "While the USA has the highest total value of sales at $1040.49, its average value of sales per customer and average order value are both relatively lower compared to some other countries. This suggests potential for optimizing sales strategies to increase individual customer spending.\n",
    "\n",
    "Overall, there are variations in customer behavior and spending patterns among different countries, emphasizing the importance of country-centric analysis for businesses to tailor their strategies effectively."
   ]
  },
  {
   "cell_type": "markdown",
   "metadata": {},
   "source": [
    "# Business Case #4\n",
    "\n",
    "In response to management's consideration of changing the purchasing strategy, our objective is to analyze customer purchase patterns at the Chinook store. We aim to determine the percentage of purchases that consist of individual tracks versus whole albums. This analysis will provide valuable insights into customer behavior and help management make informed decisions regarding their purchasing strategy, potentially optimizing revenue while maintaining customer satisfaction."
   ]
  },
  {
   "cell_type": "code",
   "execution_count": 52,
   "metadata": {
    "collapsed": false
   },
   "outputs": [
    {
     "name": "stdout",
     "output_type": "stream",
     "text": [
      "Done.\n"
     ]
    },
    {
     "data": {
      "text/html": [
       "<table>\n",
       "    <tr>\n",
       "        <th>album_purchase</th>\n",
       "        <th>number_of_invoices</th>\n",
       "        <th>percent</th>\n",
       "    </tr>\n",
       "    <tr>\n",
       "        <td>no</td>\n",
       "        <td>3281.0</td>\n",
       "        <td>5.34</td>\n",
       "    </tr>\n",
       "    <tr>\n",
       "        <td>yes</td>\n",
       "        <td>1476.0</td>\n",
       "        <td>2.4</td>\n",
       "    </tr>\n",
       "</table>"
      ],
      "text/plain": [
       "[('no', 3281.0, 5.34), ('yes', 1476.0, 2.4)]"
      ]
     },
     "execution_count": 52,
     "metadata": {},
     "output_type": "execute_result"
    }
   ],
   "source": [
    "%%sql\n",
    "WITH album_purchases AS (\n",
    "  SELECT\n",
    "    il.invoice_id,\n",
    "    CASE\n",
    "      WHEN (\n",
    "        SELECT track_id\n",
    "        FROM track\n",
    "        WHERE album_id = (\n",
    "          SELECT album_id\n",
    "          FROM track\n",
    "          WHERE track_id = il.track_id\n",
    "        )\n",
    "      EXCEPT\n",
    "        SELECT il2.track_id\n",
    "        FROM invoice_line il2\n",
    "        WHERE il2.invoice_id = il.invoice_id\n",
    "      ) IS NULL\n",
    "      AND (\n",
    "        SELECT il2.track_id\n",
    "        FROM invoice_line il2\n",
    "        WHERE il2.invoice_id = il.invoice_id\n",
    "      EXCEPT\n",
    "        SELECT track_id\n",
    "        FROM track\n",
    "        WHERE album_id = (\n",
    "          SELECT album_id\n",
    "          FROM track\n",
    "          WHERE track_id = il.track_id\n",
    "        )\n",
    "      ) IS NULL\n",
    "      THEN \"yes\"\n",
    "      ELSE \"no\"\n",
    "    END AS album_purchase\n",
    "  FROM invoice_line il\n",
    ")\n",
    "\n",
    "SELECT\n",
    "  album_purchase,\n",
    "  ROUND(COUNT(invoice_id),2) AS number_of_invoices,\n",
    "  ROUND(CAST(COUNT(invoice_id) AS FLOAT) / (SELECT COUNT(*) FROM invoice),2) AS percent\n",
    "FROM album_purchases\n",
    "GROUP BY album_purchase;"
   ]
  },
  {
   "cell_type": "markdown",
   "metadata": {
    "collapsed": true
   },
   "source": [
    "# Observation\n",
    "The majority of purchases (5.34% of invoices) consist of individual tracks rather than whole albums, indicating that customers tend to prefer selecting specific tracks rather than buying complete albums.\n",
    "\n",
    "However, album purchases still account for a notable portion (2.4% of invoices) of total sales, suggesting that there is demand for purchasing complete albums as well. This data can help inform decisions regarding inventory and purchasing strategies to optimize revenue."
   ]
  }
 ],
 "metadata": {
  "kernelspec": {
   "display_name": "Python 3",
   "language": "python",
   "name": "python3"
  },
  "language_info": {
   "codemirror_mode": {
    "name": "ipython",
    "version": 3
   },
   "file_extension": ".py",
   "mimetype": "text/x-python",
   "name": "python",
   "nbconvert_exporter": "python",
   "pygments_lexer": "ipython3",
   "version": "3.4.3"
  }
 },
 "nbformat": 4,
 "nbformat_minor": 2
}
