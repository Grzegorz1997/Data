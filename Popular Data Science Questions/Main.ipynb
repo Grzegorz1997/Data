{
 "cells": [
  {
   "cell_type": "markdown",
   "metadata": {},
   "source": [
    "# What is it that people want to learn about in data science?\n",
    "In this project, my objective is to find out what topics are people most interested in learning about within the field of data science.\n",
    "To achieve this, I will conduct an investigation on the Stack Exchange website."
   ]
  },
  {
   "cell_type": "code",
   "execution_count": null,
   "metadata": {},
   "outputs": [],
   "source": []
  }
 ],
 "metadata": {
  "language_info": {
   "name": "python"
  }
 },
 "nbformat": 4,
 "nbformat_minor": 2
}
